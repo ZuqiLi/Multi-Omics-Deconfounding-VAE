{
 "cells": [
  {
   "cell_type": "code",
   "execution_count": 1,
   "metadata": {},
   "outputs": [
    {
     "name": "stderr",
     "output_type": "stream",
     "text": [
      "/home/sonja/anaconda3/envs/env_multiviewVAE/lib/python3.10/site-packages/tqdm/auto.py:21: TqdmWarning: IProgress not found. Please update jupyter and ipywidgets. See https://ipywidgets.readthedocs.io/en/stable/user_install.html\n",
      "  from .autonotebook import tqdm as notebook_tqdm\n",
      "/home/sonja/anaconda3/envs/env_multiviewVAE/lib/python3.10/site-packages/torchvision/io/image.py:13: UserWarning: Failed to load image Python extension: /home/sonja/anaconda3/envs/env_multiviewVAE/lib/python3.10/site-packages/torchvision/image.so: undefined symbol: _ZN2at4_ops19empty_memory_format4callEN3c108ArrayRefIlEENS2_8optionalINS2_10ScalarTypeEEENS5_INS2_6LayoutEEENS5_INS2_6DeviceEEENS5_IbEENS5_INS2_12MemoryFormatEEE\n",
      "  warn(f\"Failed to load image Python extension: {e}\")\n"
     ]
    }
   ],
   "source": [
    "import os\n",
    "import pandas as pd \n",
    "import numpy as np\n",
    "import torch\n",
    "import pytorch_lightning as L\n",
    "import torch.utils.data as data\n",
    "from data.preprocess import ConcatDataset\n",
    "from scipy.stats import pearsonr\n",
    "from sklearn.preprocessing import OneHotEncoder\n",
    "import matplotlib.pyplot as plt"
   ]
  },
  {
   "attachments": {},
   "cell_type": "markdown",
   "metadata": {},
   "source": [
    "# Taks: Check how good advNet predicts each confounder"
   ]
  },
  {
   "attachments": {},
   "cell_type": "markdown",
   "metadata": {},
   "source": [
    "## Load dataset"
   ]
  },
  {
   "cell_type": "code",
   "execution_count": 2,
   "metadata": {},
   "outputs": [
    {
     "name": "stderr",
     "output_type": "stream",
     "text": [
      "Global seed set to 1234\n"
     ]
    }
   ],
   "source": [
    "\n",
    "''' Set seeds for replicability  -Ensure that all operations are deterministic on GPU (if used) for reproducibility '''\n",
    "np.random.seed(1234)\n",
    "torch.manual_seed(1234)\n",
    "L.seed_everything(1234)\n",
    "torch.backends.cudnn.deterministic = True\n",
    "torch.backends.cudnn.benchmark = False\n",
    "\n",
    "''' Set PATHs '''\n",
    "PATH_data = \"Data\"\n",
    "\n",
    "''' Load data '''\n",
    "X1 = np.loadtxt(os.path.join(PATH_data, \"TCGA\",'TCGA_mRNAs_processed.csv'), delimiter=\",\")\n",
    "X2 = np.loadtxt(os.path.join(PATH_data, \"TCGA\",'TCGA_miRNAs_processed.csv'), delimiter=\",\")\n",
    "X1 = torch.from_numpy(X1).to(torch.float32)\n",
    "X2 = torch.from_numpy(X2).to(torch.float32)\n",
    "traits = np.loadtxt(os.path.join(PATH_data, \"TCGA\",'TCGA_clinic.csv'), delimiter=\",\", skiprows=1, usecols=(1,2,3,4,5))\n",
    "# Get traits\n",
    "Y = traits[:, -1]\n",
    "\n",
    "''' Split into training and validation sets '''\n",
    "n_samples = X1.shape[0]\n",
    "indices = np.random.permutation(n_samples)\n",
    "train_idx, val_idx, test_idx = indices[:2100], indices[2100:2700], indices[2700:]\n",
    "\n",
    "X1_train, X1_val, X1_test = X1[train_idx,:], X1[val_idx,:], X1[test_idx,:]\n",
    "X2_train, X2_val, X2_test = X2[train_idx,:], X2[val_idx,:], X2[test_idx,:] \n",
    "Y_test = Y[test_idx]\n"
   ]
  },
  {
   "attachments": {},
   "cell_type": "markdown",
   "metadata": {},
   "source": [
    "## Load confounders"
   ]
  },
  {
   "cell_type": "code",
   "execution_count": 20,
   "metadata": {},
   "outputs": [
    {
     "name": "stdout",
     "output_type": "stream",
     "text": [
      "Shape of confounders: (3024, 9)\n"
     ]
    }
   ],
   "source": [
    "# Take only age as confounder and scale\n",
    "conf = traits[:, :-1] # stage, age, race, gender\n",
    "\n",
    "# Scale age\n",
    "conf = (conf - np.min(conf)) / (np.max(conf) - np.min(conf))\n",
    "\n",
    "# onehot encoding of categorical vars\n",
    "conf_onehot = OneHotEncoder(sparse_output=False, drop=\"if_binary\").fit_transform(conf[:,[3,0,2]])  # order: gender ### , stage, race\n",
    "#conf_onehot = OneHotEncoder(sparse_output=False, drop=\"if_binary\").fit_transform(conf[:,[3,2]])  # order: gender, stage, race\n",
    "\n",
    "# Concat\n",
    "conf = np.concatenate((conf[:,[1]], conf_onehot), axis=1)\n",
    "labels_onehot = ['Age', \"Gender\", 'Stage1', 'Stage2', 'Stage3', 'Stage4', 'Race1', 'Race2', 'Race3'] #,'Gender','Race1', 'Race2', 'Race3'] #\"Gender\", 'Stage1', 'Stage2', 'Stage3', 'Stage4', 'Race1', 'Race2', 'Race3']\n",
    "print('Shape of confounders:', conf.shape)\n",
    "\n",
    "\n",
    "conf_train, conf_val, conf_test = conf[train_idx,], conf[val_idx,], conf[test_idx,] \n"
   ]
  },
  {
   "attachments": {},
   "cell_type": "markdown",
   "metadata": {},
   "source": [
    "## Load deconfounded model (= after adversarial training)"
   ]
  },
  {
   "cell_type": "code",
   "execution_count": 21,
   "metadata": {},
   "outputs": [
    {
     "name": "stdout",
     "output_type": "stream",
     "text": [
      "\n",
      "\n",
      " [Sequential(\n",
      "  (0): Linear(in_features=10, out_features=1, bias=True)\n",
      "  (1): ReLU()\n",
      "), Sequential(\n",
      "  (0): Linear(in_features=10, out_features=1, bias=True)\n",
      "  (1): Sigmoid()\n",
      "), Sequential(\n",
      "  (0): Linear(in_features=10, out_features=4, bias=True)\n",
      "  (1): Softmax(dim=None)\n",
      "), Sequential(\n",
      "  (0): Linear(in_features=10, out_features=3, bias=True)\n",
      "  (1): Softmax(dim=None)\n",
      ")]\n"
     ]
    }
   ],
   "source": [
    "''' \n",
    "Load model\n",
    "'''\n",
    "\n",
    "from models.adversarial_XVAE_multiCov_multipleAdvNet import XVAE_w_advNet_pingpong\n",
    "\n",
    "lastEpoch = 100\n",
    "ckpt_advNet_path = f\"{os.getcwd()}/lightning_logs/advTraining_multipleAdvNet/advTraining_multiCov/XVAE_adv_pingpong/epoch{lastEpoch}/checkpoints\"\n",
    "ckpt_advNet_file = f\"{ckpt_advNet_path}/{os.listdir(ckpt_advNet_path)[0]}\"\n",
    "net = XVAE_w_advNet_pingpong.load_from_checkpoint(ckpt_advNet_file)"
   ]
  },
  {
   "attachments": {},
   "cell_type": "markdown",
   "metadata": {},
   "source": [
    "## Check prediction accuracy confounders"
   ]
  },
  {
   "cell_type": "code",
   "execution_count": 22,
   "metadata": {},
   "outputs": [
    {
     "name": "stderr",
     "output_type": "stream",
     "text": [
      "/home/sonja/anaconda3/envs/env_multiviewVAE/lib/python3.10/site-packages/torch/nn/modules/container.py:204: UserWarning: Implicit dimension choice for softmax has been deprecated. Change the call to include dim=X as an argument.\n",
      "  input = module(input)\n"
     ]
    }
   ],
   "source": [
    "y_pred_all = net.advNet_pre.forward(X1_test,X2_test)\n",
    "\n",
    "y_pred_all = [y_pred_all[i].detach().numpy() for i in range(len(y_pred_all))]\n",
    "\n",
    "y_pred = pd.DataFrame(np.concatenate(y_pred_all, axis=1), columns=labels_onehot)\n",
    "y_true =  pd.DataFrame(conf_test, columns=labels_onehot)"
   ]
  },
  {
   "cell_type": "code",
   "execution_count": 23,
   "metadata": {},
   "outputs": [
    {
     "name": "stdout",
     "output_type": "stream",
     "text": [
      "Age \t -0.28\n",
      "Gender \t 0.79\n",
      "Stage1 \t 0.58\n",
      "Stage2 \t 0.51\n",
      "Stage3 \t 0.56\n",
      "Stage4 \t 0.39\n",
      "Race1 \t 0.38\n",
      "Race2 \t 0.52\n",
      "Race3 \t 0.4\n"
     ]
    }
   ],
   "source": [
    "from sklearn.metrics import mean_absolute_error, roc_auc_score, r2_score\n",
    "from scipy.stats import pearsonr\n",
    "\n",
    "### Continous vars\n",
    "print(labels_onehot[0], \"\\t\", round(pearsonr(y_true.iloc[:,0],y_pred.iloc[:,0])[0],2))\n",
    "\n",
    "### Discrete vars\n",
    "for col in labels_onehot[1:]:\n",
    "    print(col, \"\\t\", round(roc_auc_score(y_true.loc[:,col],y_pred.loc[:,col]),2))"
   ]
  },
  {
   "cell_type": "code",
   "execution_count": 24,
   "metadata": {},
   "outputs": [
    {
     "data": {
      "text/plain": [
       "<matplotlib.collections.PathCollection at 0x7fc7eaf96e30>"
      ]
     },
     "execution_count": 24,
     "metadata": {},
     "output_type": "execute_result"
    },
    {
     "data": {
      "image/png": "[encoded data removed]",
      "text/plain": [
       "<Figure size 640x480 with 1 Axes>"
      ]
     },
     "metadata": {},
     "output_type": "display_data"
    }
   ],
   "source": [
    "fig, ax = plt.subplots()\n",
    "ax.scatter(y_pred.loc[:,\"Age\"], y_true.loc[:,\"Age\"])"
   ]
  },
  {
   "cell_type": "code",
   "execution_count": null,
   "metadata": {},
   "outputs": [],
   "source": []
  }
 ],
 "metadata": {
  "kernelspec": {
   "display_name": "env_multiviewVAE",
   "language": "python",
   "name": "python3"
  },
  "language_info": {
   "codemirror_mode": {
    "name": "ipython",
    "version": 3
   },
   "file_extension": ".py",
   "mimetype": "text/x-python",
   "name": "python",
   "nbconvert_exporter": "python",
   "pygments_lexer": "ipython3",
   "version": "3.10.11"
  },
  "orig_nbformat": 4
 },
 "nbformat": 4,
 "nbformat_minor": 2
}
