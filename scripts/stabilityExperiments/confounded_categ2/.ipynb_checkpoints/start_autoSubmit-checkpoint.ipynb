{
 "cells": [
  {
   "cell_type": "code",
   "execution_count": 2,
   "id": "14a4f379",
   "metadata": {},
   "outputs": [],
   "source": [
    "import os \n",
    "import random"
   ]
  },
  {
   "cell_type": "code",
   "execution_count": 3,
   "id": "18a00e35",
   "metadata": {},
   "outputs": [],
   "source": [
    "### cXVAE_inputEmbed\n",
    "### XVAE_scGAN_multiclass\n",
    "### corrReg: corrAbs, corrSq, MIhist, MIkd\n",
    "### removeLatFeatures: cutoff_corr_05, cutoff_corr_03, cutoff_pvalue"
   ]
  },
  {
   "cell_type": "code",
   "execution_count": 4,
   "id": "ef7d59eb",
   "metadata": {},
   "outputs": [
    {
     "name": "stdout",
     "output_type": "stream",
     "text": [
      "Seed: 1234\n",
      "\n",
      "\n",
      "Model name: run_1234\n",
      "Submitted batch job 238197\r\n"
     ]
    }
   ],
   "source": [
    "\n",
    "''' \n",
    "Categorical confounder \n",
    "'''\n",
    "\n",
    "##for i in range(50):\n",
    "confounder = \"confounded_categ2\"\n",
    "model = \"corrSq\"\n",
    "template = \"TEMPLATE_corrReg.py\"\n",
    "seed = 1234 #random.randint(0, 99999)   \n",
    "outName = f\"run_{seed}\"\n",
    "\n",
    "print(f\"Seed: {seed}\\n\\n\")\n",
    "print(f\"Model name: {outName}\")\n",
    "\n",
    "\n",
    "\n",
    "#############################################################################\n",
    "########################## change template script  ##########################\n",
    "PATH_template = f\"{confounder}\"\n",
    "with open(f\"{template}\", \"r\") as f: template=f.read()  \n",
    "    ## Replace in template file\n",
    "template_updated = template.replace(\"ARG_OUTPUTNAME\",  str(outName)) \\\n",
    "                               .replace(\"ARG_MODELTYPE\", str(model)) \\\n",
    "                               .replace(\"ARG_SEED\", str(seed))\n",
    "os.makedirs(f\"submit\", exist_ok=True)\n",
    "with open(f\"submit/{outName}.py\", \"w\") as f: f.write(template_updated)\n",
    "\n",
    "################################  submit  #################################### \n",
    "\n",
    "!sbatch ../templateSubmit.sh {PATH_template} {outName}   "
   ]
  },
  {
   "cell_type": "code",
   "execution_count": 3,
   "id": "19d9da37",
   "metadata": {
    "scrolled": true
   },
   "outputs": [
    {
     "name": "stdout",
     "output_type": "stream",
     "text": [
      "Seed: 59255\n",
      "\n",
      "\n",
      "Model name: run_59255\n",
      "Submitted batch job 237700\n",
      "Seed: 68663\n",
      "\n",
      "\n",
      "Model name: run_68663\n",
      "Submitted batch job 237701\n",
      "Seed: 93773\n",
      "\n",
      "\n",
      "Model name: run_93773\n",
      "Submitted batch job 237702\n",
      "Seed: 11044\n",
      "\n",
      "\n",
      "Model name: run_11044\n",
      "Submitted batch job 237703\n",
      "Seed: 90391\n",
      "\n",
      "\n",
      "Model name: run_90391\n",
      "Submitted batch job 237704\n",
      "Seed: 68451\n",
      "\n",
      "\n",
      "Model name: run_68451\n",
      "Submitted batch job 237705\n",
      "Seed: 5392\n",
      "\n",
      "\n",
      "Model name: run_5392\n",
      "Submitted batch job 237706\n",
      "Seed: 48127\n",
      "\n",
      "\n",
      "Model name: run_48127\n",
      "Submitted batch job 237707\n",
      "Seed: 43654\n",
      "\n",
      "\n",
      "Model name: run_43654\n",
      "Submitted batch job 237708\n",
      "Seed: 22902\n",
      "\n",
      "\n",
      "Model name: run_22902\n",
      "Submitted batch job 237709\n"
     ]
    }
   ],
   "source": [
    "for i in range(50):\n",
    "    confounder = \"confounded_categ\"\n",
    "    model = \"cutoff_corr_05\"\n",
    "    template = \"TEMPLATE_removeLatFeatures.py\"\n",
    "    seed = random.randint(0, 99999)   ### random.randint(0, 99999)\n",
    "    outName = f\"run_{seed}\"\n",
    "\n",
    "    print(f\"Seed: {seed}\\n\\n\")\n",
    "    print(f\"Model name: {outName}\")\n",
    "\n",
    "\n",
    "\n",
    "    #############################################################################\n",
    "    ########################## change template script  ##########################\n",
    "    PATH_template = f\"{confounder}\"\n",
    "    with open(f\"{template}\", \"r\") as f: template=f.read()  \n",
    "        ## Replace in template file\n",
    "    template_updated = template.replace(\"ARG_OUTPUTNAME\",  str(outName)) \\\n",
    "                                   .replace(\"ARG_MODELTYPE\", str(model)) \\\n",
    "                                   .replace(\"ARG_SEED\", str(seed))\n",
    "    os.makedirs(f\"submit\", exist_ok=True)\n",
    "    with open(f\"submit/{outName}.py\", \"w\") as f: f.write(template_updated)\n",
    "\n",
    "    ################################  submit  #################################### \n",
    "\n",
    "    !sbatch ../templateSubmit.sh {PATH_template} {outName}   \n",
    "    i+=1"
   ]
  },
  {
   "cell_type": "code",
   "execution_count": 19,
   "id": "9f9e8016",
   "metadata": {},
   "outputs": [
    {
     "name": "stdout",
     "output_type": "stream",
     "text": [
      "            237087     short template    skatz PD       0:00      1 (QOSMaxJobsPerUserLimit)\r\n",
      "            237088     short template    skatz PD       0:00      1 (QOSMaxJobsPerUserLimit)\r\n",
      "            237089     short template    skatz PD       0:00      1 (QOSMaxJobsPerUserLimit)\r\n",
      "            237090     short template    skatz PD       0:00      1 (QOSMaxJobsPerUserLimit)\r\n",
      "            237091     short template    skatz PD       0:00      1 (QOSMaxJobsPerUserLimit)\r\n",
      "            237092     short template    skatz PD       0:00      1 (QOSMaxJobsPerUserLimit)\r\n",
      "            237093     short template    skatz PD       0:00      1 (QOSMaxJobsPerUserLimit)\r\n",
      "            237094     short template    skatz PD       0:00      1 (QOSMaxJobsPerUserLimit)\r\n",
      "            237095     short template    skatz PD       0:00      1 (QOSMaxJobsPerUserLimit)\r\n",
      "            237096     short template    skatz PD       0:00      1 (QOSMaxJobsPerUserLimit)\r\n",
      "            237097     short template    skatz PD       0:00      1 (QOSMaxJobsPerUserLimit)\r\n",
      "            237098     short template    skatz PD       0:00      1 (QOSMaxJobsPerUserLimit)\r\n",
      "            237099     short template    skatz PD       0:00      1 (QOSMaxJobsPerUserLimit)\r\n",
      "            237100     short template    skatz PD       0:00      1 (QOSMaxJobsPerUserLimit)\r\n",
      "            237101     short template    skatz PD       0:00      1 (QOSMaxJobsPerUserLimit)\r\n",
      "            237102     short template    skatz PD       0:00      1 (QOSMaxJobsPerUserLimit)\r\n",
      "            237103     short template    skatz PD       0:00      1 (QOSMaxJobsPerUserLimit)\r\n",
      "            237104     short template    skatz PD       0:00      1 (QOSMaxJobsPerUserLimit)\r\n",
      "            237105     short template    skatz PD       0:00      1 (QOSMaxJobsPerUserLimit)\r\n",
      "            237106     short template    skatz PD       0:00      1 (QOSMaxJobsPerUserLimit)\r\n",
      "            237107     short template    skatz PD       0:00      1 (QOSMaxJobsPerUserLimit)\r\n",
      "            237108     short template    skatz PD       0:00      1 (QOSMaxJobsPerUserLimit)\r\n",
      "            237109     short template    skatz PD       0:00      1 (QOSMaxJobsPerUserLimit)\r\n",
      "            237110     short template    skatz PD       0:00      1 (QOSMaxJobsPerUserLimit)\r\n",
      "            237111     short template    skatz PD       0:00      1 (QOSMaxJobsPerUserLimit)\r\n",
      "            237112     short template    skatz PD       0:00      1 (QOSMaxJobsPerUserLimit)\r\n",
      "            237113     short template    skatz PD       0:00      1 (QOSMaxJobsPerUserLimit)\r\n",
      "            237114     short template    skatz PD       0:00      1 (QOSMaxJobsPerUserLimit)\r\n",
      "            237115     short template    skatz PD       0:00      1 (QOSMaxJobsPerUserLimit)\r\n",
      "            237116     short template    skatz PD       0:00      1 (QOSMaxJobsPerUserLimit)\r\n",
      "            237117     short template    skatz PD       0:00      1 (QOSMaxJobsPerUserLimit)\r\n",
      "            237118     short template    skatz PD       0:00      1 (QOSMaxJobsPerUserLimit)\r\n",
      "            237119     short template    skatz PD       0:00      1 (QOSMaxJobsPerUserLimit)\r\n",
      "            237120     short template    skatz PD       0:00      1 (QOSMaxJobsPerUserLimit)\r\n",
      "            237121     short template    skatz PD       0:00      1 (QOSMaxJobsPerUserLimit)\r\n",
      "            237122     short template    skatz PD       0:00      1 (QOSMaxJobsPerUserLimit)\r\n",
      "            237123     short template    skatz PD       0:00      1 (QOSMaxJobsPerUserLimit)\r\n",
      "            237124     short template    skatz PD       0:00      1 (QOSMaxJobsPerUserLimit)\r\n",
      "            237125     short template    skatz PD       0:00      1 (QOSMaxJobsPerUserLimit)\r\n",
      "            237126     short template    skatz PD       0:00      1 (QOSMaxJobsPerUserLimit)\r\n",
      "            237127     short template    skatz PD       0:00      1 (QOSMaxJobsPerUserLimit)\r\n",
      "            237128     short template    skatz PD       0:00      1 (QOSMaxJobsPerUserLimit)\r\n",
      "            237129     short template    skatz PD       0:00      1 (QOSMaxJobsPerUserLimit)\r\n",
      "            237130     short template    skatz PD       0:00      1 (QOSMaxJobsPerUserLimit)\r\n",
      "            237131     short template    skatz PD       0:00      1 (QOSMaxJobsPerUserLimit)\r\n",
      "            237132     short template    skatz PD       0:00      1 (QOSMaxJobsPerUserLimit)\r\n",
      "            237082     short template    skatz  R       9:41      1 gpu001\r\n",
      "            237086     short template    skatz  R       1:48      1 gpu001\r\n",
      "            237083     short template    skatz  R       1:51      1 gpu001\r\n",
      "            237084     short template    skatz  R       1:51      1 gpu001\r\n",
      "            237085     short template    skatz  R       1:51      1 gpu001\r\n"
     ]
    }
   ],
   "source": [
    "!squeue | grep \"katz\""
   ]
  },
  {
   "cell_type": "code",
   "execution_count": null,
   "id": "e05d2746",
   "metadata": {},
   "outputs": [],
   "source": []
  }
 ],
 "metadata": {
  "kernelspec": {
   "display_name": "Python (env_multiviewVAE)",
   "language": "python",
   "name": "env_multiviewvae"
  },
  "language_info": {
   "codemirror_mode": {
    "name": "ipython",
    "version": 3
   },
   "file_extension": ".py",
   "mimetype": "text/x-python",
   "name": "python",
   "nbconvert_exporter": "python",
   "pygments_lexer": "ipython3",
   "version": "3.10.11"
  }
 },
 "nbformat": 4,
 "nbformat_minor": 5
}
