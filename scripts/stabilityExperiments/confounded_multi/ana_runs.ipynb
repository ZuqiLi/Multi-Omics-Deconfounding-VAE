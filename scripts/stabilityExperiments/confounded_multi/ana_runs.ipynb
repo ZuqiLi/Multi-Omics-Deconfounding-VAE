{
 "cells": [
  {
   "cell_type": "code",
   "execution_count": 1,
   "id": "7d73c91a",
   "metadata": {},
   "outputs": [],
   "source": [
    "import pandas as pd\n",
    "import os\n",
    "#import seaborn as sns\n",
    "import matplotlib.pyplot as plt"
   ]
  },
  {
   "cell_type": "code",
   "execution_count": 2,
   "id": "d02b242a",
   "metadata": {},
   "outputs": [],
   "source": [
    "### removeLatFeatures: cutoff_corr_05, cutoff_corr_03, cutoff_pvalue\n",
    "### cXVAE_inputEmbed\n",
    "### XVAE_adversarial_multiclass\n",
    "### corrReg: corrAbs, corrSq, MIhist, MIkd\n"
   ]
  },
  {
   "cell_type": "code",
   "execution_count": 3,
   "id": "9d2b0e6e",
   "metadata": {},
   "outputs": [],
   "source": [
    "model = \"cutoff_corr_05\" #\"XVAE_adversarial_multiclass\"\n",
    "##PATH = f\"/trinity/home/skatz/PROJECTS/Multi-view-Deconfounding-VAE/lightning_logs/confounded_multi/stability/{model}\"\n",
    "\n",
    "# for XVAE vanilla\n",
    "PATH = f\"/data/scratch/skatz/PROJECTS/multiview_VAE/lightning_logs/confounded_multi/stability/{model}\""
   ]
  },
  {
   "cell_type": "code",
   "execution_count": 4,
   "id": "5e5b61e0",
   "metadata": {
    "scrolled": true
   },
   "outputs": [],
   "source": [
    "df = pd.DataFrame()\n",
    "for folder in os.listdir(f\"{PATH}\"):   ### XVAE_adversarialTrg\n",
    "    try: \n",
    "        tmp = pd.read_csv(f\"{PATH}/{folder}/epoch150/results_performance_vanillaXVAE.csv\") ## cufoff_corr: results_performance_removeLatFeatures_pvalueCutoff.csv\n",
    "        tmp[\"run\"] = folder\n",
    "        df = pd.concat([df, tmp], axis=0)\n",
    "    except FileNotFoundError:\n",
    "        print(\"Somethign went wrong\")\n",
    "        continue"
   ]
  },
  {
   "cell_type": "code",
   "execution_count": 5,
   "id": "ddf77c41",
   "metadata": {},
   "outputs": [
    {
     "data": {
      "text/plain": [
       "(50, 12)"
      ]
     },
     "execution_count": 5,
     "metadata": {},
     "output_type": "execute_result"
    }
   ],
   "source": [
    "df.shape"
   ]
  },
  {
   "cell_type": "code",
   "execution_count": 6,
   "id": "da98064f",
   "metadata": {},
   "outputs": [
    {
     "data": {
      "text/plain": [
       "(50, 18)"
      ]
     },
     "execution_count": 6,
     "metadata": {},
     "output_type": "execute_result"
    }
   ],
   "source": [
    "''' beautify table and make it fit excel '''\n",
    "### Split deconfounding corrcoref columns\n",
    "deconf = df['deconfounding_corrcoef'].str.split(\", \", expand=True)\n",
    "deconf.columns = [\"corrDiff_linear\", \"corrDiff_squared\", \"corrDiff_categ\"]\n",
    "df.drop(\"deconfounding_corrcoef\", inplace=True, axis=1)\n",
    "df = pd.concat([df, deconf], axis=1)\n",
    "\n",
    "### Split ari_confoundedCluster\n",
    "ari_conf = df['ari_confoundedCluster'].str.split(\", \", expand=True)\n",
    "ari_conf.columns = [\"ari_conf_linear\", \"ari_conf_squared\", \"ari_conf_categ\"]\n",
    "df.drop(\"ari_confoundedCluster\", inplace=True, axis=1)\n",
    "df = pd.concat([df, ari_conf], axis=1)\n",
    "\n",
    "### Split nmi_confoundedCluster\n",
    "nmi_conf = df['nmi_confoundedCluster'].str.split(\", \", expand=True)\n",
    "nmi_conf.columns = [\"nmi_conf_linear\", \"nmi_conf_squared\", \"nmi_conf_categ\"]\n",
    "df.drop(\"nmi_confoundedCluster\", inplace=True, axis=1)\n",
    "df = pd.concat([df, nmi_conf], axis=1)\n",
    "\n",
    "new_colOrder = ['RelErr_X1', 'RelErr_X2', 'RelErr_X1X2', 'corrDiff_linear',\n",
    "                'corrDiff_squared', 'corrDiff_categ','CC_dispersion', 'ss', 'db',\n",
    "                'ari_trueCluster', 'nmi_trueCluster', 'ari_conf_linear', 'nmi_conf_linear',\n",
    "                'ari_conf_squared', 'nmi_conf_squared',\n",
    "                'ari_conf_categ', 'nmi_conf_categ','run']\n",
    "df = df[new_colOrder]\n",
    "\n",
    "df.shape"
   ]
  },
  {
   "cell_type": "code",
   "execution_count": 7,
   "id": "39e7dddb",
   "metadata": {},
   "outputs": [],
   "source": [
    "df.to_csv(\"tmp.csv\", index=False)"
   ]
  },
  {
   "cell_type": "code",
   "execution_count": 43,
   "id": "ccaa97fd",
   "metadata": {
    "scrolled": true
   },
   "outputs": [],
   "source": []
  },
  {
   "cell_type": "code",
   "execution_count": 45,
   "id": "1eb9418b",
   "metadata": {},
   "outputs": [],
   "source": []
  },
  {
   "cell_type": "code",
   "execution_count": 47,
   "id": "736f111f",
   "metadata": {},
   "outputs": [],
   "source": []
  },
  {
   "cell_type": "code",
   "execution_count": null,
   "id": "bdb19648",
   "metadata": {},
   "outputs": [],
   "source": []
  }
 ],
 "metadata": {
  "kernelspec": {
   "display_name": "Python (env_multiviewVAE)",
   "language": "python",
   "name": "env_multiviewvae"
  },
  "language_info": {
   "codemirror_mode": {
    "name": "ipython",
    "version": 3
   },
   "file_extension": ".py",
   "mimetype": "text/x-python",
   "name": "python",
   "nbconvert_exporter": "python",
   "pygments_lexer": "ipython3",
   "version": "3.10.11"
  }
 },
 "nbformat": 4,
 "nbformat_minor": 5
}
