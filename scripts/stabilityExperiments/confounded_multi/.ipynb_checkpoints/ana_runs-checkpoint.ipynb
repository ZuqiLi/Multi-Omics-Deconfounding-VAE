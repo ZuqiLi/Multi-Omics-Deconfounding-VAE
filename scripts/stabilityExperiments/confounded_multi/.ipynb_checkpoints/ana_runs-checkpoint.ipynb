{
 "cells": [
  {
   "cell_type": "code",
   "execution_count": 1,
   "id": "7d73c91a",
   "metadata": {},
   "outputs": [],
   "source": [
    "import pandas as pd\n",
    "import os\n",
    "#import seaborn as sns\n",
    "import matplotlib.pyplot as plt"
   ]
  },
  {
   "cell_type": "code",
   "execution_count": 2,
   "id": "d02b242a",
   "metadata": {},
   "outputs": [],
   "source": [
    "### cXVAE_inputEmbed\n",
    "### XVAE_adversarial_multiclass\n",
    "### corrReg: corrAbs, corrSq, MIhist, MIkd\n",
    "### removeLatFeatures: cutoff_corr_05, cutoff_corr_03, cutoff_pvalue"
   ]
  },
  {
   "cell_type": "code",
   "execution_count": 3,
   "id": "9d2b0e6e",
   "metadata": {},
   "outputs": [],
   "source": [
    "model = \"cXVAE_inputEmbed\" #\"XVAE_adversarial_multiclass\"\n",
    "PATH = f\"/trinity/home/skatz/PROJECTS/Multi-view-Deconfounding-VAE/lightning_logs/confounded_multi/stability/{model}\""
   ]
  },
  {
   "cell_type": "code",
   "execution_count": 5,
   "id": "5e5b61e0",
   "metadata": {
    "scrolled": true
   },
   "outputs": [],
   "source": [
    "df = pd.DataFrame()\n",
    "for folder in os.listdir(f\"{PATH}\"):   ### XVAE_adversarialTrg\n",
    "    try: \n",
    "        tmp = pd.read_csv(f\"{PATH}/{folder}/epoch150/results_performance.csv\") ## cufoff_corr: results_performance_removeLatFeatures_pvalueCutoff.csv\n",
    "        tmp[\"run\"] = folder\n",
    "        df = pd.concat([df, tmp], axis=0)\n",
    "    except FileNotFoundError:\n",
    "        print(\"Somethign went wrong\")\n",
    "        continue"
   ]
  },
  {
   "cell_type": "code",
   "execution_count": 6,
   "id": "ddf77c41",
   "metadata": {},
   "outputs": [
    {
     "data": {
      "text/plain": [
       "(50, 12)"
      ]
     },
     "execution_count": 6,
     "metadata": {},
     "output_type": "execute_result"
    }
   ],
   "source": [
    "df.shape"
   ]
  },
  {
   "cell_type": "code",
   "execution_count": 7,
   "id": "39e7dddb",
   "metadata": {},
   "outputs": [],
   "source": [
    "df.to_csv(\"tmp.csv\", index=False)"
   ]
  },
  {
   "cell_type": "code",
   "execution_count": null,
   "id": "ccaa97fd",
   "metadata": {},
   "outputs": [],
   "source": []
  },
  {
   "cell_type": "code",
   "execution_count": null,
   "id": "1eb9418b",
   "metadata": {},
   "outputs": [],
   "source": []
  }
 ],
 "metadata": {
  "kernelspec": {
   "display_name": "Python (env_multiviewVAE)",
   "language": "python",
   "name": "env_multiviewvae"
  },
  "language_info": {
   "codemirror_mode": {
    "name": "ipython",
    "version": 3
   },
   "file_extension": ".py",
   "mimetype": "text/x-python",
   "name": "python",
   "nbconvert_exporter": "python",
   "pygments_lexer": "ipython3",
   "version": "3.10.11"
  }
 },
 "nbformat": 4,
 "nbformat_minor": 5
}
