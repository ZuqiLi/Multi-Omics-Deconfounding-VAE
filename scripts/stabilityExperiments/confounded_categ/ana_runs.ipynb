{
 "cells": [
  {
   "cell_type": "code",
   "execution_count": 1,
   "id": "7d73c91a",
   "metadata": {},
   "outputs": [],
   "source": [
    "import pandas as pd\n",
    "import os\n",
    "#import seaborn as sns\n",
    "import matplotlib.pyplot as plt"
   ]
  },
  {
   "cell_type": "code",
   "execution_count": 2,
   "id": "9d2b0e6e",
   "metadata": {},
   "outputs": [],
   "source": [
    "model = \"cXVAE_fusedEmbed\" #\"XVAE_scGAN_multiclass\"\n",
    "PATH = f\"/trinity/home/skatz/PROJECTS/Multi-view-Deconfounding-VAE/lightning_logs/confounded_categ/stability/{model}\""
   ]
  },
  {
   "cell_type": "code",
   "execution_count": 6,
   "id": "5e5b61e0",
   "metadata": {},
   "outputs": [],
   "source": [
    "df = pd.DataFrame()\n",
    "for folder in os.listdir(f\"{PATH}\"):   ### XVAE_adversarialTrg\n",
    "    try: \n",
    "        tmp = pd.read_csv(f\"{PATH}/{folder}/epoch150/results_performance.csv\") ## cufoff_corr: results_performance_removeLatFeatures_pvalueCutoff.csv\n",
    "        tmp[\"run\"] = folder\n",
    "        df = pd.concat([df, tmp], axis=0)\n",
    "    except FileNotFoundError:\n",
    "        print(\"Somethign went wrong\")\n",
    "        continue"
   ]
  },
  {
   "cell_type": "code",
   "execution_count": 8,
   "id": "39e7dddb",
   "metadata": {},
   "outputs": [],
   "source": [
    "df.to_csv(\"tmp.csv\", index=False)"
   ]
  },
  {
   "cell_type": "code",
   "execution_count": 9,
   "id": "e9d1923e",
   "metadata": {},
   "outputs": [
    {
     "data": {
      "text/html": [
       "<div>\n",
       "<style scoped>\n",
       "    .dataframe tbody tr th:only-of-type {\n",
       "        vertical-align: middle;\n",
       "    }\n",
       "\n",
       "    .dataframe tbody tr th {\n",
       "        vertical-align: top;\n",
       "    }\n",
       "\n",
       "    .dataframe thead th {\n",
       "        text-align: right;\n",
       "    }\n",
       "</style>\n",
       "<table border=\"1\" class=\"dataframe\">\n",
       "  <thead>\n",
       "    <tr style=\"text-align: right;\">\n",
       "      <th></th>\n",
       "      <th>RelErr_X1</th>\n",
       "      <th>RelErr_X2</th>\n",
       "      <th>RelErr_X1X2</th>\n",
       "      <th>deconfounding_corrcoef</th>\n",
       "      <th>CC_dispersion</th>\n",
       "      <th>ss</th>\n",
       "      <th>db</th>\n",
       "      <th>ari_trueCluster</th>\n",
       "      <th>nmi_trueCluster</th>\n",
       "      <th>ari_confoundedCluster</th>\n",
       "      <th>nmi_confoundedCluster</th>\n",
       "      <th>run</th>\n",
       "    </tr>\n",
       "  </thead>\n",
       "  <tbody>\n",
       "    <tr>\n",
       "      <th>0</th>\n",
       "      <td>0.189455</td>\n",
       "      <td>0.210476</td>\n",
       "      <td>0.202182</td>\n",
       "      <td>[42.42097174210679]</td>\n",
       "      <td>0.928895</td>\n",
       "      <td>0.135303</td>\n",
       "      <td>2.186322</td>\n",
       "      <td>0.704074</td>\n",
       "      <td>0.752207</td>\n",
       "      <td>-0.000259</td>\n",
       "      <td>0.002214</td>\n",
       "      <td>run_11044</td>\n",
       "    </tr>\n",
       "    <tr>\n",
       "      <th>0</th>\n",
       "      <td>0.195329</td>\n",
       "      <td>0.211437</td>\n",
       "      <td>0.205081</td>\n",
       "      <td>[33.62966063584242]</td>\n",
       "      <td>0.905961</td>\n",
       "      <td>0.118201</td>\n",
       "      <td>2.283036</td>\n",
       "      <td>0.582922</td>\n",
       "      <td>0.688683</td>\n",
       "      <td>0.001285</td>\n",
       "      <td>0.004011</td>\n",
       "      <td>run_43654</td>\n",
       "    </tr>\n",
       "    <tr>\n",
       "      <th>0</th>\n",
       "      <td>0.184455</td>\n",
       "      <td>0.208286</td>\n",
       "      <td>0.198883</td>\n",
       "      <td>[36.723294017341985]</td>\n",
       "      <td>0.961528</td>\n",
       "      <td>0.137908</td>\n",
       "      <td>2.073371</td>\n",
       "      <td>0.874996</td>\n",
       "      <td>0.853872</td>\n",
       "      <td>0.000239</td>\n",
       "      <td>0.002593</td>\n",
       "      <td>run_68663</td>\n",
       "    </tr>\n",
       "    <tr>\n",
       "      <th>0</th>\n",
       "      <td>0.191072</td>\n",
       "      <td>0.210860</td>\n",
       "      <td>0.203052</td>\n",
       "      <td>[17.687089078398508]</td>\n",
       "      <td>0.942768</td>\n",
       "      <td>0.123881</td>\n",
       "      <td>2.297703</td>\n",
       "      <td>0.712354</td>\n",
       "      <td>0.769619</td>\n",
       "      <td>0.000299</td>\n",
       "      <td>0.002980</td>\n",
       "      <td>run_68451</td>\n",
       "    </tr>\n",
       "    <tr>\n",
       "      <th>0</th>\n",
       "      <td>0.196132</td>\n",
       "      <td>0.210321</td>\n",
       "      <td>0.204723</td>\n",
       "      <td>[36.37619359005355]</td>\n",
       "      <td>0.916871</td>\n",
       "      <td>0.113658</td>\n",
       "      <td>2.275252</td>\n",
       "      <td>0.649727</td>\n",
       "      <td>0.713109</td>\n",
       "      <td>0.000192</td>\n",
       "      <td>0.002978</td>\n",
       "      <td>run_59255</td>\n",
       "    </tr>\n",
       "    <tr>\n",
       "      <th>0</th>\n",
       "      <td>0.186901</td>\n",
       "      <td>0.209990</td>\n",
       "      <td>0.200880</td>\n",
       "      <td>[43.04133396755938]</td>\n",
       "      <td>0.925607</td>\n",
       "      <td>0.124951</td>\n",
       "      <td>2.195465</td>\n",
       "      <td>0.638221</td>\n",
       "      <td>0.734082</td>\n",
       "      <td>0.001145</td>\n",
       "      <td>0.004105</td>\n",
       "      <td>run_90391</td>\n",
       "    </tr>\n",
       "    <tr>\n",
       "      <th>0</th>\n",
       "      <td>0.187082</td>\n",
       "      <td>0.210230</td>\n",
       "      <td>0.201097</td>\n",
       "      <td>[38.64562458669518]</td>\n",
       "      <td>0.913361</td>\n",
       "      <td>0.134772</td>\n",
       "      <td>2.272248</td>\n",
       "      <td>0.647478</td>\n",
       "      <td>0.732292</td>\n",
       "      <td>0.000226</td>\n",
       "      <td>0.002831</td>\n",
       "      <td>run_93773</td>\n",
       "    </tr>\n",
       "    <tr>\n",
       "      <th>0</th>\n",
       "      <td>0.191419</td>\n",
       "      <td>0.210592</td>\n",
       "      <td>0.203027</td>\n",
       "      <td>[37.398292980494304]</td>\n",
       "      <td>0.919392</td>\n",
       "      <td>0.131782</td>\n",
       "      <td>2.113957</td>\n",
       "      <td>0.638865</td>\n",
       "      <td>0.722597</td>\n",
       "      <td>-0.000133</td>\n",
       "      <td>0.002398</td>\n",
       "      <td>run_22902</td>\n",
       "    </tr>\n",
       "    <tr>\n",
       "      <th>0</th>\n",
       "      <td>0.183222</td>\n",
       "      <td>0.208352</td>\n",
       "      <td>0.198436</td>\n",
       "      <td>[37.42119458144281]</td>\n",
       "      <td>0.904241</td>\n",
       "      <td>0.119185</td>\n",
       "      <td>2.221601</td>\n",
       "      <td>0.570548</td>\n",
       "      <td>0.664449</td>\n",
       "      <td>0.000171</td>\n",
       "      <td>0.002901</td>\n",
       "      <td>run_48127</td>\n",
       "    </tr>\n",
       "    <tr>\n",
       "      <th>0</th>\n",
       "      <td>0.189197</td>\n",
       "      <td>0.208541</td>\n",
       "      <td>0.200908</td>\n",
       "      <td>[35.225302297601054]</td>\n",
       "      <td>0.920971</td>\n",
       "      <td>0.135625</td>\n",
       "      <td>2.256208</td>\n",
       "      <td>0.680499</td>\n",
       "      <td>0.747193</td>\n",
       "      <td>-0.000086</td>\n",
       "      <td>0.002426</td>\n",
       "      <td>run_5392</td>\n",
       "    </tr>\n",
       "  </tbody>\n",
       "</table>\n",
       "</div>"
      ],
      "text/plain": [
       "   RelErr_X1  RelErr_X2  RelErr_X1X2 deconfounding_corrcoef  CC_dispersion  \\\n",
       "0   0.189455   0.210476     0.202182    [42.42097174210679]       0.928895   \n",
       "0   0.195329   0.211437     0.205081    [33.62966063584242]       0.905961   \n",
       "0   0.184455   0.208286     0.198883   [36.723294017341985]       0.961528   \n",
       "0   0.191072   0.210860     0.203052   [17.687089078398508]       0.942768   \n",
       "0   0.196132   0.210321     0.204723    [36.37619359005355]       0.916871   \n",
       "0   0.186901   0.209990     0.200880    [43.04133396755938]       0.925607   \n",
       "0   0.187082   0.210230     0.201097    [38.64562458669518]       0.913361   \n",
       "0   0.191419   0.210592     0.203027   [37.398292980494304]       0.919392   \n",
       "0   0.183222   0.208352     0.198436    [37.42119458144281]       0.904241   \n",
       "0   0.189197   0.208541     0.200908   [35.225302297601054]       0.920971   \n",
       "\n",
       "         ss        db  ari_trueCluster  nmi_trueCluster  \\\n",
       "0  0.135303  2.186322         0.704074         0.752207   \n",
       "0  0.118201  2.283036         0.582922         0.688683   \n",
       "0  0.137908  2.073371         0.874996         0.853872   \n",
       "0  0.123881  2.297703         0.712354         0.769619   \n",
       "0  0.113658  2.275252         0.649727         0.713109   \n",
       "0  0.124951  2.195465         0.638221         0.734082   \n",
       "0  0.134772  2.272248         0.647478         0.732292   \n",
       "0  0.131782  2.113957         0.638865         0.722597   \n",
       "0  0.119185  2.221601         0.570548         0.664449   \n",
       "0  0.135625  2.256208         0.680499         0.747193   \n",
       "\n",
       "   ari_confoundedCluster  nmi_confoundedCluster        run  \n",
       "0              -0.000259               0.002214  run_11044  \n",
       "0               0.001285               0.004011  run_43654  \n",
       "0               0.000239               0.002593  run_68663  \n",
       "0               0.000299               0.002980  run_68451  \n",
       "0               0.000192               0.002978  run_59255  \n",
       "0               0.001145               0.004105  run_90391  \n",
       "0               0.000226               0.002831  run_93773  \n",
       "0              -0.000133               0.002398  run_22902  \n",
       "0               0.000171               0.002901  run_48127  \n",
       "0              -0.000086               0.002426   run_5392  "
      ]
     },
     "execution_count": 9,
     "metadata": {},
     "output_type": "execute_result"
    }
   ],
   "source": [
    "df"
   ]
  },
  {
   "cell_type": "code",
   "execution_count": 10,
   "id": "ccaa97fd",
   "metadata": {},
   "outputs": [
    {
     "data": {
      "text/plain": [
       "Text(0.5, 1.0, 'ARI - true')"
      ]
     },
     "execution_count": 10,
     "metadata": {},
     "output_type": "execute_result"
    },
    {
     "data": {
      "image/png": "[encoded data removed]",
      "text/plain": [
       "<Figure size 1000x500 with 2 Axes>"
      ]
     },
     "metadata": {},
     "output_type": "display_data"
    }
   ],
   "source": [
    "fig, (ax1,ax2) = plt.subplots(1,2, figsize=(10,5))\n",
    "ax1.hist(df[\"ari_confoundedCluster\"], bins=20, color=\"blue\")\n",
    "ax2.hist(df[\"ari_trueCluster\"], bins=20, color=\"purple\")\n",
    "#ax1.violin(df[\"ari_confoundedCluster\"])\n",
    "ax1.set_title(\"ARI - confounded\")\n",
    "ax2.set_title(\"ARI - true\")"
   ]
  },
  {
   "cell_type": "code",
   "execution_count": 9,
   "id": "e1afb700",
   "metadata": {},
   "outputs": [
    {
     "data": {
      "text/plain": [
       "{'whiskers': [<matplotlib.lines.Line2D at 0x2aac6690ae30>,\n",
       "  <matplotlib.lines.Line2D at 0x2aac6690b0d0>],\n",
       " 'caps': [<matplotlib.lines.Line2D at 0x2aac6690b3a0>,\n",
       "  <matplotlib.lines.Line2D at 0x2aac66868160>],\n",
       " 'boxes': [<matplotlib.lines.Line2D at 0x2aac6690ab90>],\n",
       " 'medians': [<matplotlib.lines.Line2D at 0x2aac5e63ad70>],\n",
       " 'fliers': [<matplotlib.lines.Line2D at 0x2aac6690b670>],\n",
       " 'means': []}"
      ]
     },
     "execution_count": 9,
     "metadata": {},
     "output_type": "execute_result"
    },
    {
     "data": {
      "image/png": "[encoded data removed]",
      "text/plain": [
       "<Figure size 1000x500 with 2 Axes>"
      ]
     },
     "metadata": {},
     "output_type": "display_data"
    }
   ],
   "source": [
    "fig, (ax1,ax2) = plt.subplots(1,2, figsize=(10,5))\n",
    "ax1.boxplot(df[\"ari_confoundedCluster\"])\n",
    "ax2.boxplot(df[\"ari_trueCluster\"])"
   ]
  },
  {
   "cell_type": "code",
   "execution_count": null,
   "id": "1eb9418b",
   "metadata": {},
   "outputs": [],
   "source": []
  }
 ],
 "metadata": {
  "kernelspec": {
   "display_name": "Python (env_multiviewVAE)",
   "language": "python",
   "name": "env_multiviewvae"
  },
  "language_info": {
   "codemirror_mode": {
    "name": "ipython",
    "version": 3
   },
   "file_extension": ".py",
   "mimetype": "text/x-python",
   "name": "python",
   "nbconvert_exporter": "python",
   "pygments_lexer": "ipython3",
   "version": "3.10.11"
  }
 },
 "nbformat": 4,
 "nbformat_minor": 5
}
