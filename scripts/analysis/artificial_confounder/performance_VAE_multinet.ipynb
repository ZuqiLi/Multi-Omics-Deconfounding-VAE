{
 "cells": [
  {
   "attachments": {},
   "cell_type": "markdown",
   "metadata": {},
   "source": [
    "# Analysis of adversarial training experiments\n",
    "\n",
    "**Evaluating deconfounding strat**\n",
    "1. prediction performance of advNet (does it learn something?)\n",
    "2. deconfounding performance (does it work?)\n",
    "   \n",
    "**Evaluation clustering**\n",
    "1. clustering of cancer types on deconfounded embedding \n",
    "2. association between clustering & confounders\n",
    "\n",
    "**Evaluation training?**"
   ]
  },
  {
   "cell_type": "code",
   "execution_count": 1,
   "metadata": {},
   "outputs": [
    {
     "name": "stdout",
     "output_type": "stream",
     "text": [
      "artificial2/advTraining_VAE_multinet\n"
     ]
    }
   ],
   "source": [
    "''' Model information '''\n",
    "firstEpoch = \"epoch1\"\n",
    "lastEpoch = \"epoch10\"\n",
    "modelName = \"artificial2/advTraining_VAE_multinet\"\n",
    "print(modelName)"
   ]
  },
  {
   "cell_type": "code",
   "execution_count": 2,
   "metadata": {},
   "outputs": [
    {
     "name": "stderr",
     "output_type": "stream",
     "text": [
      "/home/sonja/anaconda3/envs/env_multiviewVAE/lib/python3.10/site-packages/tqdm/auto.py:21: TqdmWarning: IProgress not found. Please update jupyter and ipywidgets. See https://ipywidgets.readthedocs.io/en/stable/user_install.html\n",
      "  from .autonotebook import tqdm as notebook_tqdm\n",
      "/home/sonja/anaconda3/envs/env_multiviewVAE/lib/python3.10/site-packages/torchvision/io/image.py:13: UserWarning: Failed to load image Python extension: /home/sonja/anaconda3/envs/env_multiviewVAE/lib/python3.10/site-packages/torchvision/image.so: undefined symbol: _ZN2at4_ops19empty_memory_format4callEN3c108ArrayRefIlEENS2_8optionalINS2_10ScalarTypeEEENS5_INS2_6LayoutEEENS5_INS2_6DeviceEEENS5_IbEENS5_INS2_12MemoryFormatEEE\n",
      "  warn(f\"Failed to load image Python extension: {e}\")\n"
     ]
    }
   ],
   "source": [
    "import sys\n",
    "sys.path.append(\"../../../\")\n",
    "import os\n",
    "import pandas as pd \n",
    "import numpy as np\n",
    "import torch\n",
    "import pytorch_lightning as L\n",
    "import torch.utils.data as data\n",
    "from data.preprocess import ConcatDataset\n",
    "from scipy.stats import pearsonr\n",
    "from sklearn.preprocessing import OneHotEncoder\n",
    "import matplotlib.pyplot as plt\n",
    "\n",
    "from sklearn.metrics import mean_absolute_error, roc_auc_score, r2_score\n",
    "from scipy.stats import pearsonr\n",
    "from models.func import kld, mmd, reconAcc_pearsonCorr, reconAcc_relativeError, mse, crossEntropy, bce, init_weights\n",
    "from models.clustering import *\n",
    "\n",
    "from models.adversarial_XVAE_multipleAdvNet import XVAE_w_advNet_pingpong"
   ]
  },
  {
   "attachments": {},
   "cell_type": "markdown",
   "metadata": {},
   "source": [
    "## Load data & model"
   ]
  },
  {
   "cell_type": "code",
   "execution_count": 3,
   "metadata": {},
   "outputs": [
    {
     "name": "stderr",
     "output_type": "stream",
     "text": [
      "Global seed set to 1234\n"
     ]
    },
    {
     "name": "stdout",
     "output_type": "stream",
     "text": [
      "\n",
      " {(3024, 6)}\n",
      "Shape of confounders: (3024, 6)\n"
     ]
    }
   ],
   "source": [
    "\n",
    "''' Set seeds for replicability  -Ensure that all operations are deterministic on GPU (if used) for reproducibility '''\n",
    "np.random.seed(1234)\n",
    "torch.manual_seed(1234)\n",
    "L.seed_everything(1234)\n",
    "torch.backends.cudnn.deterministic = True\n",
    "torch.backends.cudnn.benchmark = False\n",
    "\n",
    "''' Set PATHs '''\n",
    "PATH_data = \"../../../Data\"\n",
    "\n",
    "X1 = np.loadtxt(os.path.join(PATH_data, \"TCGA\",'TCGA_mRNAs_confounded.csv'), delimiter=\",\")\n",
    "X2 = np.loadtxt(os.path.join(PATH_data, \"TCGA\",'TCGA_miRNAs_confounded.csv'), delimiter=\",\")\n",
    "X1 = torch.from_numpy(X1).to(torch.float32)\n",
    "X2 = torch.from_numpy(X2).to(torch.float32)\n",
    "traits = np.loadtxt(os.path.join(PATH_data, \"TCGA\",'TCGA_clinic.csv'), delimiter=\",\", skiprows=1, usecols=(1,2,3,4,5))\n",
    "# Get traits\n",
    "Y = traits[:, -1]\n",
    "artificialConf = np.loadtxt(os.path.join(PATH_data, \"TCGA\",'TCGA_confounder.csv'), delimiter=\",\")[:,None]\n",
    "\n",
    "\n",
    "''' Split into training and validation sets '''\n",
    "n_samples = X1.shape[0]\n",
    "indices = np.random.permutation(n_samples)\n",
    "train_idx, val_idx, test_idx = indices[:2100], indices[2100:2700], indices[2700:]\n",
    "\n",
    "X1_train, X1_val, X1_test = X1[train_idx,:], X1[val_idx,:], X1[test_idx,:]\n",
    "X2_train, X2_val, X2_test = X2[train_idx,:], X2[val_idx,:], X2[test_idx,:] \n",
    "Y_test = Y[test_idx]\n",
    "\n",
    "\n",
    "''' Load confounders '''\n",
    "\n",
    "# Take only age as confounder and scale\n",
    "conf = OneHotEncoder(sparse_output=False, drop=\"if_binary\").fit_transform(artificialConf)\n",
    "print(\"\\n\",{conf.shape})\n",
    "labels_onehot = [f\"artificalConf{i}\" for i in range(conf.shape[1])] #,'Gender','Race1', 'Race2', 'Race3'] #\"Gender\", 'Stage1', 'Stage2', 'Stage3', 'Stage4', 'Race1', 'Race2', 'Race3']\n",
    "print('Shape of confounders:', conf.shape)\n",
    "\n",
    "conf_train, conf_val, conf_test = conf[train_idx,], conf[val_idx,], conf[test_idx,] \n"
   ]
  },
  {
   "attachments": {},
   "cell_type": "markdown",
   "metadata": {},
   "source": [
    "## 1. Check prediction performance of advNet"
   ]
  },
  {
   "cell_type": "code",
   "execution_count": 16,
   "metadata": {},
   "outputs": [
    {
     "name": "stdout",
     "output_type": "stream",
     "text": [
      "\n",
      "\n",
      " [Sequential(\n",
      "  (0): Linear(in_features=10, out_features=6, bias=True)\n",
      "  (1): Softmax(dim=None)\n",
      ")]\n"
     ]
    }
   ],
   "source": [
    "ckpt_advNet_path = f\"../../../lightning_logs/{modelName}/XVAE_adv_pingpong/{lastEpoch}/checkpoints\"\n",
    "ckpt_advNet_file = f\"{ckpt_advNet_path}/{os.listdir(ckpt_advNet_path)[0]}\"\n",
    "model = XVAE_w_advNet_pingpong.load_from_checkpoint(ckpt_advNet_file)"
   ]
  },
  {
   "cell_type": "code",
   "execution_count": 17,
   "metadata": {},
   "outputs": [
    {
     "name": "stdout",
     "output_type": "stream",
     "text": [
      "artificalConf0 \t 0.03\n",
      "artificalConf1 \t 0.3\n",
      "artificalConf2 \t 0.83\n",
      "artificalConf3 \t 0.41\n",
      "artificalConf4 \t 0.32\n",
      "artificalConf5 \t 0.62\n"
     ]
    },
    {
     "name": "stderr",
     "output_type": "stream",
     "text": [
      "/home/sonja/anaconda3/envs/env_multiviewVAE/lib/python3.10/site-packages/torch/nn/modules/container.py:204: UserWarning: Implicit dimension choice for softmax has been deprecated. Change the call to include dim=X as an argument.\n",
      "  input = module(input)\n"
     ]
    }
   ],
   "source": [
    "y_pred_all = model.advNet_pre.forward(X1_test,X2_test)[0].detach().numpy()\n",
    "y_pred = pd.DataFrame(y_pred_all, columns=labels_onehot)\n",
    "y_true =  pd.DataFrame(conf_test, columns=labels_onehot)\n",
    "\n",
    "### Discrete vars\n",
    "for col in labels_onehot:\n",
    "    print(col, \"\\t\", round(roc_auc_score(y_true.loc[:,col],y_pred.loc[:,col]),2))"
   ]
  },
  {
   "attachments": {},
   "cell_type": "markdown",
   "metadata": {},
   "source": [
    "## 2. Check deconfounding performance"
   ]
  },
  {
   "cell_type": "code",
   "execution_count": 18,
   "metadata": {},
   "outputs": [
    {
     "name": "stdout",
     "output_type": "stream",
     "text": [
      "\n",
      "\n",
      " [Sequential(\n",
      "  (0): Linear(in_features=10, out_features=6, bias=True)\n",
      "  (1): Softmax(dim=None)\n",
      ")]\n",
      "\n",
      "\n",
      " [Sequential(\n",
      "  (0): Linear(in_features=10, out_features=6, bias=True)\n",
      "  (1): Softmax(dim=None)\n",
      ")]\n",
      "\n",
      "\n",
      " [Sequential(\n",
      "  (0): Linear(in_features=10, out_features=6, bias=True)\n",
      "  (1): Softmax(dim=None)\n",
      ")]\n",
      "\n",
      "\n",
      " [Sequential(\n",
      "  (0): Linear(in_features=10, out_features=6, bias=True)\n",
      "  (1): Softmax(dim=None)\n",
      ")]\n"
     ]
    },
    {
     "data": {
      "text/html": [
       "<div>\n",
       "<style scoped>\n",
       "    .dataframe tbody tr th:only-of-type {\n",
       "        vertical-align: middle;\n",
       "    }\n",
       "\n",
       "    .dataframe tbody tr th {\n",
       "        vertical-align: top;\n",
       "    }\n",
       "\n",
       "    .dataframe thead th {\n",
       "        text-align: right;\n",
       "    }\n",
       "</style>\n",
       "<table border=\"1\" class=\"dataframe\">\n",
       "  <thead>\n",
       "    <tr style=\"text-align: right;\">\n",
       "      <th></th>\n",
       "      <th>0</th>\n",
       "    </tr>\n",
       "  </thead>\n",
       "  <tbody>\n",
       "    <tr>\n",
       "      <th>artificalConf0</th>\n",
       "      <td>-0.95</td>\n",
       "    </tr>\n",
       "    <tr>\n",
       "      <th>artificalConf1</th>\n",
       "      <td>0.20</td>\n",
       "    </tr>\n",
       "    <tr>\n",
       "      <th>artificalConf2</th>\n",
       "      <td>-0.96</td>\n",
       "    </tr>\n",
       "    <tr>\n",
       "      <th>artificalConf3</th>\n",
       "      <td>1.10</td>\n",
       "    </tr>\n",
       "    <tr>\n",
       "      <th>artificalConf4</th>\n",
       "      <td>-1.71</td>\n",
       "    </tr>\n",
       "    <tr>\n",
       "      <th>artificalConf5</th>\n",
       "      <td>0.66</td>\n",
       "    </tr>\n",
       "  </tbody>\n",
       "</table>\n",
       "</div>"
      ],
      "text/plain": [
       "                   0\n",
       "artificalConf0 -0.95\n",
       "artificalConf1  0.20\n",
       "artificalConf2 -0.96\n",
       "artificalConf3  1.10\n",
       "artificalConf4 -1.71\n",
       "artificalConf5  0.66"
      ]
     },
     "execution_count": 18,
     "metadata": {},
     "output_type": "execute_result"
    }
   ],
   "source": [
    "all_corr = []\n",
    "dic_res = dict()\n",
    "for i in range(2):\n",
    "    ##########\n",
    "    ### Because of the variational part the latent space is always a bit different and these values change\n",
    "    ##########\n",
    "    for epoch in [firstEpoch, lastEpoch]:\n",
    "\n",
    "        ckpt_path = f\"../../../lightning_logs/{modelName}/XVAE_adv_pingpong/{epoch}/checkpoints\"\n",
    "        ckpt_file = f\"{ckpt_advNet_path}/{os.listdir(ckpt_advNet_path)[0]}\"\n",
    "        model = XVAE_w_advNet_pingpong.load_from_checkpoint(ckpt_file)\n",
    "\n",
    "        z = model.xvae_pre.generate_embedding(X1_test, X2_test).detach().numpy()\n",
    "\n",
    "        corr_conf = [np.abs(np.corrcoef(z.T, conf_test[:,i].T)[:-1,-1]) for i in range(conf.shape[1])]\n",
    "        \n",
    "        dic_res[epoch] = pd.DataFrame(corr_conf, index=labels_onehot)\n",
    "\n",
    "    ''' \n",
    "    Calculate [%] differences of correlation of confounders to each latent feature before (epoch1) and after training (epoch100)\n",
    "\n",
    "    Formula:\n",
    "    ((first epoch) - (last epoch)).mean() / (first epoch).mean()\n",
    "    '''\n",
    "    all_corr.append(list(((dic_res[firstEpoch].T - dic_res[lastEpoch].T).mean() / dic_res[firstEpoch].T.mean())*100))\n",
    "\n",
    "## Analyse\n",
    "all_corr_unpacked = list(zip(*all_corr))\n",
    "corr_dict = dict()\n",
    "for i, label in enumerate(labels_onehot):\n",
    "    corr_dict[label] = np.array(all_corr_unpacked[i]).mean()\n",
    "\n",
    "pd.DataFrame(corr_dict, index=[0]).round(2).T"
   ]
  },
  {
   "cell_type": "code",
   "execution_count": 20,
   "metadata": {},
   "outputs": [
    {
     "data": {
      "image/png": "[encoded data removed]",
      "text/plain": [
       "<Figure size 1500x500 with 4 Axes>"
      ]
     },
     "metadata": {},
     "output_type": "display_data"
    }
   ],
   "source": [
    "''' Plot heatmap '''\n",
    "\n",
    "fig, (ax1, ax2) = plt.subplots(2,1,figsize=(15,5))\n",
    "im = ax1.imshow(dic_res[firstEpoch], cmap='hot', interpolation='nearest', vmin=0, vmax=0.5)\n",
    "ax1.set_yticks(np.arange(conf.shape[1]), labels=labels_onehot)\n",
    "ax1.tick_params(axis='both', labelsize=10)\n",
    "ax1.set_title(firstEpoch)\n",
    "plt.colorbar(im)\n",
    "##\n",
    "im = ax2.imshow(dic_res[lastEpoch], cmap='hot', interpolation='nearest',vmin=0, vmax=0.5)\n",
    "ax2.set_yticks(np.arange(conf.shape[1]), labels=labels_onehot)\n",
    "ax2.tick_params(axis='both', labelsize=10)\n",
    "ax2.set_title(lastEpoch)\n",
    "plt.colorbar(im)\n",
    "plt.tight_layout()"
   ]
  },
  {
   "attachments": {},
   "cell_type": "markdown",
   "metadata": {},
   "source": [
    "## 3. Clustering \n",
    "- of cancer types (on deconfounded embedding)\n",
    "-  Association between clustering and confounders"
   ]
  },
  {
   "cell_type": "code",
   "execution_count": 21,
   "metadata": {},
   "outputs": [
    {
     "name": "stdout",
     "output_type": "stream",
     "text": [
      "\n",
      "\n",
      " [Sequential(\n",
      "  (0): Linear(in_features=10, out_features=6, bias=True)\n",
      "  (1): Softmax(dim=None)\n",
      ")]\n"
     ]
    }
   ],
   "source": [
    "ckpt_advNet_path = f\"../../../lightning_logs/{modelName}/XVAE_adv_pingpong/{lastEpoch}/checkpoints\"\n",
    "ckpt_advNet_file = f\"{ckpt_advNet_path}/{os.listdir(ckpt_advNet_path)[0]}\"\n",
    "model = XVAE_w_advNet_pingpong.load_from_checkpoint(ckpt_advNet_file)\n",
    "\n",
    "LF = model.xvae_pre.generate_embedding(X1_test, X2_test).detach().cpu().numpy()\n",
    "Y = Y_test"
   ]
  },
  {
   "cell_type": "code",
   "execution_count": 22,
   "metadata": {},
   "outputs": [
    {
     "data": {
      "text/html": [
       "<div>\n",
       "<style scoped>\n",
       "    .dataframe tbody tr th:only-of-type {\n",
       "        vertical-align: middle;\n",
       "    }\n",
       "\n",
       "    .dataframe tbody tr th {\n",
       "        vertical-align: top;\n",
       "    }\n",
       "\n",
       "    .dataframe thead th {\n",
       "        text-align: right;\n",
       "    }\n",
       "</style>\n",
       "<table border=\"1\" class=\"dataframe\">\n",
       "  <thead>\n",
       "    <tr style=\"text-align: right;\">\n",
       "      <th></th>\n",
       "      <th>0</th>\n",
       "    </tr>\n",
       "  </thead>\n",
       "  <tbody>\n",
       "    <tr>\n",
       "      <th>SS</th>\n",
       "      <td>0.169273</td>\n",
       "    </tr>\n",
       "    <tr>\n",
       "      <th>DB</th>\n",
       "      <td>1.662403</td>\n",
       "    </tr>\n",
       "    <tr>\n",
       "      <th>ARI</th>\n",
       "      <td>0.032804</td>\n",
       "    </tr>\n",
       "    <tr>\n",
       "      <th>NMI</th>\n",
       "      <td>0.087921</td>\n",
       "    </tr>\n",
       "  </tbody>\n",
       "</table>\n",
       "</div>"
      ],
      "text/plain": [
       "            0\n",
       "SS   0.169273\n",
       "DB   1.662403\n",
       "ARI  0.032804\n",
       "NMI  0.087921"
      ]
     },
     "execution_count": 22,
     "metadata": {},
     "output_type": "execute_result"
    }
   ],
   "source": [
    "clust = kmeans(LF, model.xvae_pre.c)\n",
    "SS, DB = internal_metrics(LF, clust)\n",
    "ARI, NMI = external_metrics(clust, Y)\n",
    "\n",
    "pd.DataFrame([SS, DB, ARI, NMI], index=[\"SS\", \"DB\", \"ARI\", \"NMI\"])"
   ]
  },
  {
   "cell_type": "code",
   "execution_count": 23,
   "metadata": {},
   "outputs": [
    {
     "data": {
      "text/html": [
       "<div>\n",
       "<style scoped>\n",
       "    .dataframe tbody tr th:only-of-type {\n",
       "        vertical-align: middle;\n",
       "    }\n",
       "\n",
       "    .dataframe tbody tr th {\n",
       "        vertical-align: top;\n",
       "    }\n",
       "\n",
       "    .dataframe thead th {\n",
       "        text-align: right;\n",
       "    }\n",
       "</style>\n",
       "<table border=\"1\" class=\"dataframe\">\n",
       "  <thead>\n",
       "    <tr style=\"text-align: right;\">\n",
       "      <th></th>\n",
       "      <th>0</th>\n",
       "    </tr>\n",
       "  </thead>\n",
       "  <tbody>\n",
       "    <tr>\n",
       "      <th>artificalConf0</th>\n",
       "      <td>2.689891e-55</td>\n",
       "    </tr>\n",
       "    <tr>\n",
       "      <th>artificalConf1</th>\n",
       "      <td>6.048719e-25</td>\n",
       "    </tr>\n",
       "    <tr>\n",
       "      <th>artificalConf2</th>\n",
       "      <td>7.480574e-21</td>\n",
       "    </tr>\n",
       "    <tr>\n",
       "      <th>artificalConf3</th>\n",
       "      <td>5.953785e-31</td>\n",
       "    </tr>\n",
       "    <tr>\n",
       "      <th>artificalConf4</th>\n",
       "      <td>5.609691e-12</td>\n",
       "    </tr>\n",
       "    <tr>\n",
       "      <th>artificalConf5</th>\n",
       "      <td>3.255571e-34</td>\n",
       "    </tr>\n",
       "  </tbody>\n",
       "</table>\n",
       "</div>"
      ],
      "text/plain": [
       "                           0\n",
       "artificalConf0  2.689891e-55\n",
       "artificalConf1  6.048719e-25\n",
       "artificalConf2  7.480574e-21\n",
       "artificalConf3  5.953785e-31\n",
       "artificalConf4  5.609691e-12\n",
       "artificalConf5  3.255571e-34"
      ]
     },
     "execution_count": 23,
     "metadata": {},
     "output_type": "execute_result"
    }
   ],
   "source": [
    "conf_assoc = test_confounding(clust, conf_test)\n",
    "pd.DataFrame([conf_assoc[i] for i,label in enumerate(labels_onehot)], index=labels_onehot)"
   ]
  },
  {
   "cell_type": "code",
   "execution_count": null,
   "metadata": {},
   "outputs": [],
   "source": []
  }
 ],
 "metadata": {
  "kernelspec": {
   "display_name": "env_multiviewVAE",
   "language": "python",
   "name": "python3"
  },
  "language_info": {
   "codemirror_mode": {
    "name": "ipython",
    "version": 3
   },
   "file_extension": ".py",
   "mimetype": "text/x-python",
   "name": "python",
   "nbconvert_exporter": "python",
   "pygments_lexer": "ipython3",
   "version": "3.10.11"
  },
  "orig_nbformat": 4
 },
 "nbformat": 4,
 "nbformat_minor": 2
}
