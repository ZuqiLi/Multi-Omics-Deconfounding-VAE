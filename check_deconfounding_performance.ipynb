{
 "cells": [
  {
   "cell_type": "code",
   "execution_count": 1,
   "metadata": {},
   "outputs": [
    {
     "name": "stderr",
     "output_type": "stream",
     "text": [
      "/home/sonja/anaconda3/envs/env_multiviewVAE/lib/python3.10/site-packages/tqdm/auto.py:21: TqdmWarning: IProgress not found. Please update jupyter and ipywidgets. See https://ipywidgets.readthedocs.io/en/stable/user_install.html\n",
      "  from .autonotebook import tqdm as notebook_tqdm\n",
      "/home/sonja/anaconda3/envs/env_multiviewVAE/lib/python3.10/site-packages/torchvision/io/image.py:13: UserWarning: Failed to load image Python extension: /home/sonja/anaconda3/envs/env_multiviewVAE/lib/python3.10/site-packages/torchvision/image.so: undefined symbol: _ZN2at4_ops19empty_memory_format4callEN3c108ArrayRefIlEENS2_8optionalINS2_10ScalarTypeEEENS5_INS2_6LayoutEEENS5_INS2_6DeviceEEENS5_IbEENS5_INS2_12MemoryFormatEEE\n",
      "  warn(f\"Failed to load image Python extension: {e}\")\n"
     ]
    }
   ],
   "source": [
    "import os\n",
    "import pandas as pd \n",
    "import numpy as np\n",
    "import torch\n",
    "import pytorch_lightning as L\n",
    "import torch.utils.data as data\n",
    "from data.preprocess import ConcatDataset\n",
    "from scipy.stats import pearsonr\n",
    "import matplotlib.pyplot as plt"
   ]
  },
  {
   "cell_type": "code",
   "execution_count": 2,
   "metadata": {},
   "outputs": [
    {
     "name": "stderr",
     "output_type": "stream",
     "text": [
      "Global seed set to 1235\n"
     ]
    },
    {
     "name": "stdout",
     "output_type": "stream",
     "text": [
      "Shape of confounders: (3024,)\n"
     ]
    }
   ],
   "source": [
    "\n",
    "''' Set seeds for replicability  -Ensure that all operations are deterministic on GPU (if used) for reproducibility '''\n",
    "np.random.seed(1235)\n",
    "torch.manual_seed(1235)\n",
    "L.seed_everything(1235)\n",
    "torch.backends.cudnn.deterministic = True\n",
    "torch.backends.cudnn.benchmark = False\n",
    "\n",
    "''' Set PATHs '''\n",
    "PATH_data = \"Data\"\n",
    "\n",
    "''' Load data '''\n",
    "X1 = np.loadtxt(os.path.join(PATH_data, \"TCGA\",'TCGA_mRNAs_processed.csv'), delimiter=\",\")\n",
    "X2 = np.loadtxt(os.path.join(PATH_data, \"TCGA\",'TCGA_miRNAs_processed.csv'), delimiter=\",\")\n",
    "X1 = torch.from_numpy(X1).to(torch.float32)\n",
    "X2 = torch.from_numpy(X2).to(torch.float32)\n",
    "traits = np.loadtxt(os.path.join(PATH_data, \"TCGA\",'TCGA_clinic.csv'), delimiter=\",\", skiprows=1, usecols=(1,2,3,4,5))\n",
    "# Get traits\n",
    "Y = traits[:, -1]\n",
    "# Take only age as confounder and scale\n",
    "conf = traits[:, 1] \n",
    "conf = (conf - np.min(conf)) / (np.max(conf) - np.min(conf))\n",
    "print('Shape of confounders:', conf.shape)\n",
    "\n",
    "''' Split into training and validation sets '''\n",
    "n_samples = X1.shape[0]\n",
    "indices = np.random.permutation(n_samples)\n",
    "train_idx, val_idx, test_idx = indices[:2100], indices[2100:2700], indices[2700:]\n",
    "\n",
    "##### I am not a big fan of that as we also want to test other metrices using the test set... let's remove it for now and check how to implement it...\n",
    "# # we test on the whole dataset for clustering\n",
    "# train_idx = np.concatenate((train_idx, test_idx))\n",
    "# test_idx = indices\n",
    "X1_train, X1_val, X1_test = X1[train_idx,:], X1[val_idx,:], X1[test_idx,:]\n",
    "X2_train, X2_val, X2_test = X2[train_idx,:], X2[val_idx,:], X2[test_idx,:] \n",
    "conf_train, conf_val, conf_test = conf[train_idx,], conf[val_idx,], conf[test_idx,] \n",
    "Y_test = Y[test_idx]\n"
   ]
  },
  {
   "cell_type": "code",
   "execution_count": 3,
   "metadata": {},
   "outputs": [
    {
     "name": "stdout",
     "output_type": "stream",
     "text": [
      "\n",
      "\n",
      " Training adv XVAE \n",
      "\n",
      "\n",
      "\n",
      "\n",
      " Training adv XVAE \n",
      "\n",
      "\n"
     ]
    }
   ],
   "source": [
    "''' \n",
    "Load model & calculated corr coefficient\n",
    "'''\n",
    "\n",
    "from models.adversarial_XVAE import XVAE_w_advNet\n",
    "\n",
    "dic_res = dict()\n",
    "for epoch in [\"epoch1\", \"epoch50\"]:\n",
    "\n",
    "    ckpt_xvae_path = f\"{os.getcwd()}/lightning_logs/advTraining/XVAE_adv_pingpong/{epoch}/checkpoints\"\n",
    "    ckpt_xvae_file = f\"{ckpt_xvae_path}/{os.listdir(ckpt_xvae_path)[0]}\"\n",
    "    xvae = XVAE_w_advNet.load_from_checkpoint(ckpt_xvae_file)\n",
    "\n",
    "    z = xvae.xvae_pre.generate_embedding(X1_test, X2_test).detach().numpy()\n",
    "\n",
    "    corr_conf = [np.abs(np.corrcoef(z.T, conf_test.T)[:-1,-1])]\n",
    "    dic_res[epoch] = corr_conf[0]"
   ]
  },
  {
   "cell_type": "code",
   "execution_count": 8,
   "metadata": {},
   "outputs": [
    {
     "data": {
      "text/plain": [
       "0.16443965247323153"
      ]
     },
     "execution_count": 8,
     "metadata": {},
     "output_type": "execute_result"
    }
   ],
   "source": [
    "df_res = pd.DataFrame.from_dict(dic_res)\n",
    "(df_res[\"epoch1\"] - df_res[\"epoch50\"]).mean() / df_res[\"epoch1\"].mean()"
   ]
  },
  {
   "cell_type": "code",
   "execution_count": 32,
   "metadata": {},
   "outputs": [],
   "source": [
    "# ''' Absolute correlation to confounding variables '''\n",
    "# #corr_conf = [np.abs(np.corrcoef(LF.T, conf[:,i].T)[:-1,-1]) for i in range(conf.shape[1])]\n",
    "# corr_conf = [np.abs(np.corrcoef(z.T, conf_test.T)[:-1,-1])]\n",
    "# fig, ax = plt.subplots(figsize=(15,5))\n",
    "# im = plt.imshow(corr_conf, cmap='hot', interpolation='nearest')\n",
    "# labels = ['Age']\n",
    "# labels_onehot = ['Age']\n",
    "# ax.set_yticks(np.arange(1), labels=labels_onehot)\n",
    "# ax.tick_params(axis='both', labelsize=10)\n",
    "# plt.colorbar(im)"
   ]
  },
  {
   "cell_type": "code",
   "execution_count": null,
   "metadata": {},
   "outputs": [],
   "source": []
  }
 ],
 "metadata": {
  "kernelspec": {
   "display_name": "env_multiviewVAE",
   "language": "python",
   "name": "python3"
  },
  "language_info": {
   "codemirror_mode": {
    "name": "ipython",
    "version": 3
   },
   "file_extension": ".py",
   "mimetype": "text/x-python",
   "name": "python",
   "nbconvert_exporter": "python",
   "pygments_lexer": "ipython3",
   "version": "3.10.11"
  },
  "orig_nbformat": 4
 },
 "nbformat": 4,
 "nbformat_minor": 2
}
